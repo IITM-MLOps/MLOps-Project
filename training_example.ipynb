{
 "cells": [
  {
   "cell_type": "code",
   "execution_count": 1,
   "metadata": {},
   "outputs": [
    {
     "name": "stdout",
     "output_type": "stream",
     "text": [
      "Imagens de treino: (60000, 28, 28)\n",
      "Rótulos de treino: (60000,)\n",
      "Imagens de teste: (10000, 28, 28)\n",
      "Rótulos de test: (10000,)\n"
     ]
    }
   ],
   "source": [
    "import matplotlib.pyplot as plt\n",
    "import numpy as np\n",
    "#import tensorflow as tf\n",
    "#from tensorflow.keras.models import Sequential\n",
    "#from tensorflow.keras.layers import Dense\n",
    "import matplotlib.pyplot as plt\n",
    "import struct\n",
    "import pickle\n",
    "from utils import *\n",
    "\n",
    "def load_mnist_images(filename):\n",
    "    \"\"\"Lê o arquivo de imagens MNIST e retorna um array NumPy com as imagens.\"\"\"\n",
    "    with open(filename, 'rb') as f:\n",
    "        # Ler o cabeçalho do arquivo: primeiro 16 bytes\n",
    "        magic, num_images, rows, cols = struct.unpack('>IIII', f.read(16))\n",
    "        # Ler o restante dos dados e converter para numpy\n",
    "        images = np.frombuffer(f.read(), dtype=np.uint8)\n",
    "        # Reshape para (n_imagens, altura, largura)\n",
    "        images = images.reshape(num_images, rows, cols)\n",
    "    return images\n",
    "\n",
    "def load_mnist_labels(filename):\n",
    "    \"\"\"Lê o arquivo de rótulos MNIST e retorna um array NumPy com os labels.\"\"\"\n",
    "    with open(filename, 'rb') as f:\n",
    "        # Ler o cabeçalho do arquivo: primeiro 8 bytes\n",
    "        magic, num_labels = struct.unpack('>II', f.read(8))\n",
    "        # Ler os rótulos restantes e converter para numpy\n",
    "        labels = np.frombuffer(f.read(), dtype=np.uint8)\n",
    "    return labels\n",
    "\n",
    "# Exemplo de uso:\n",
    "train_images = load_mnist_images('./mnist/train-images.idx3-ubyte')\n",
    "train_labels = load_mnist_labels('./mnist/train-labels.idx1-ubyte')\n",
    "test_images = load_mnist_images('./mnist/t10k-images.idx3-ubyte')\n",
    "test_labels = load_mnist_labels('./mnist/t10k-labels.idx1-ubyte')\n",
    "\n",
    "print(f\"Imagens de treino: {train_images.shape}\")  # Ex.: (60000, 28, 28)\n",
    "print(f\"Rótulos de treino: {train_labels.shape}\")\n",
    "print(f\"Imagens de teste: {test_images.shape}\")# Ex.: (60000,)\n",
    "print(f\"Rótulos de test: {test_labels.shape}\")\n",
    "\n",
    "\n"
   ]
  },
  {
   "cell_type": "code",
   "execution_count": 2,
   "metadata": {},
   "outputs": [],
   "source": [
    "#%%\n",
    "X = train_images\n",
    "X = X.reshape(-1,28*28)\n",
    "Y = train_labels\n",
    "Y = Y.reshape(-1,1)\n",
    "X_test = test_images\n",
    "X_test = X_test.reshape(-1,28*28)\n",
    "Y_test = test_labels\n",
    "Y_test = Y_test.reshape(-1,1)\n"
   ]
  },
  {
   "cell_type": "code",
   "execution_count": 3,
   "metadata": {},
   "outputs": [],
   "source": [
    "#%%\n",
    "model2 = Dense_Neural_Diy(input_size=784, hidden_layer1_size=50, hidden_layer2_size=20 , output_size=10)\n"
   ]
  },
  {
   "cell_type": "code",
   "execution_count": null,
   "metadata": {},
   "outputs": [],
   "source": [
    "# %%\n",
    "model2.weights\n",
    "# %%\n",
    "model2.fit(X,Y, learning_rate=0.005, epochs=1, batch_size=40)\n",
    "# %%\n",
    "Y_pred_test = model2.predict(X_test).reshape(-1,1)\n",
    "Y_hat = model2.predict(X).reshape(-1,1).reshape(-1,1)\n",
    "#%%\n",
    "np.mean(Y_test == Y_pred_test)\n",
    "# %%\n",
    "model2.improve_train(X,Y, learning_rate=0.005, epochs=60, batch_size=40)\n",
    "# %%\n",
    "Y_pred_test = model2.predict(X_test).reshape(-1,1)\n",
    "Y_hat = model2.predict(X).reshape(-1,1).reshape(-1,1)\n",
    "# %%\n",
    "np.mean(Y_test == Y_pred_test)\n",
    "# %%"
   ]
  }
 ],
 "metadata": {
  "kernelspec": {
   "display_name": "apagar",
   "language": "python",
   "name": "python3"
  },
  "language_info": {
   "codemirror_mode": {
    "name": "ipython",
    "version": 3
   },
   "file_extension": ".py",
   "mimetype": "text/x-python",
   "name": "python",
   "nbconvert_exporter": "python",
   "pygments_lexer": "ipython3",
   "version": "3.11.10"
  }
 },
 "nbformat": 4,
 "nbformat_minor": 2
}
